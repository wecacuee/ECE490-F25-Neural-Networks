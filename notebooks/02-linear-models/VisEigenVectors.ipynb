{
 "cells": [
  {
   "cell_type": "markdown",
   "id": "f8f40bb5-eefb-4a8d-be6e-6744c6ce9ae2",
   "metadata": {},
   "source": [
    "---\n",
    "math:\n",
    "    '\\calA': '{\\cal A}'\n",
    "    '\\calB': '{\\cal B}'\n",
    "    '\\calC': '{\\cal C}'\n",
    "    '\\calD': '{\\cal D}'\n",
    "    '\\calE': '{\\cal E}'\n",
    "    '\\calF': '{\\cal F}'\n",
    "    '\\calG': '{\\cal G}'\n",
    "    '\\calH': '{\\cal H}'\n",
    "    '\\calI': '{\\cal I}'\n",
    "    '\\calJ': '{\\cal J}'\n",
    "    '\\calK': '{\\cal K}'\n",
    "    '\\calL': '{\\cal L}'\n",
    "    '\\calM': '{\\cal M}'\n",
    "    '\\calN': '{\\cal N}'\n",
    "    '\\calO': '{\\cal O}'\n",
    "    '\\calP': '{\\cal P}'\n",
    "    '\\calQ': '{\\cal Q}'\n",
    "    '\\calR': '{\\cal R}'\n",
    "    '\\calS': '{\\cal S}'\n",
    "    '\\calT': '{\\cal T}'\n",
    "    '\\calU': '{\\cal U}'\n",
    "    '\\calV': '{\\cal V}'\n",
    "    '\\calW': '{\\cal W}'\n",
    "    '\\calX': '{\\cal X}'\n",
    "    '\\calY': '{\\cal Y}'\n",
    "    '\\calZ': '{\\cal Z}'\n",
    "    '\\setA': '\\textsf{A}'\n",
    "    '\\setB': '\\textsf{B}'\n",
    "    '\\setC': '\\textsf{C}'\n",
    "    '\\setD': '\\textsf{D}'\n",
    "    '\\setE': '\\textsf{E}'\n",
    "    '\\setF': '\\textsf{F}'\n",
    "    '\\setG': '\\textsf{G}'\n",
    "    '\\setH': '\\textsf{H}'\n",
    "    '\\setI': '\\textsf{I}'\n",
    "    '\\setJ': '\\textsf{J}'\n",
    "    '\\setK': '\\textsf{K}'\n",
    "    '\\setL': '\\textsf{L}'\n",
    "    '\\setM': '\\textsf{M}'\n",
    "    '\\setN': '\\textsf{N}'\n",
    "    '\\setO': '\\textsf{O}'\n",
    "    '\\setP': '\\textsf{P}'\n",
    "    '\\setQ': '\\textsf{Q}'\n",
    "    '\\setR': '\\textsf{R}'\n",
    "    '\\setS': '\\textsf{S}'\n",
    "    '\\setT': '\\textsf{T}'\n",
    "    '\\setU': '\\textsf{U}'\n",
    "    '\\setV': '\\textsf{V}'\n",
    "    '\\setW': '\\textsf{W}'\n",
    "    '\\setX': '\\textsf{X}'\n",
    "    '\\setY': '\\textsf{Y}'\n",
    "    '\\setZ': '\\textsf{Z}'\n",
    "    '\\bfa': '\\mathbf{a}'\n",
    "    '\\bfb': '\\mathbf{b}'\n",
    "    '\\bfc': '\\mathbf{c}'\n",
    "    '\\bfd': '\\mathbf{d}'\n",
    "    '\\bfe': '\\mathbf{e}'\n",
    "    '\\bff': '\\mathbf{f}'\n",
    "    '\\bfg': '\\mathbf{g}'\n",
    "    '\\bfh': '\\mathbf{h}'\n",
    "    '\\bfi': '\\mathbf{i}'\n",
    "    '\\bfj': '\\mathbf{j}'\n",
    "    '\\bfk': '\\mathbf{k}'\n",
    "    '\\bfl': '\\mathbf{l}'\n",
    "    '\\bfm': '\\mathbf{m}'\n",
    "    '\\bfn': '\\mathbf{n}'\n",
    "    '\\bfo': '\\mathbf{o}'\n",
    "    '\\bfp': '\\mathbf{p}'\n",
    "    '\\bfq': '\\mathbf{q}'\n",
    "    '\\bfr': '\\mathbf{r}'\n",
    "    '\\bfs': '\\mathbf{s}'\n",
    "    '\\bft': '\\mathbf{t}'\n",
    "    '\\bfu': '\\mathbf{u}'\n",
    "    '\\bfv': '\\mathbf{v}'\n",
    "    '\\bfw': '\\mathbf{w}'\n",
    "    '\\bfx': '\\mathbf{x}'\n",
    "    '\\bfy': '\\mathbf{y}'\n",
    "    '\\bfz': '\\mathbf{z}'\n",
    "    '\\bfalpha': '\\boldsymbol{\\alpha}'\n",
    "    '\\bfbeta': '\\boldsymbol{\\beta}'\n",
    "    '\\bfgamma': '\\boldsymbol{\\gamma}'\n",
    "    '\\bfdelta': '\\boldsymbol{\\delta}'\n",
    "    '\\bfepsilon': '\\boldsymbol{\\epsilon}'\n",
    "    '\\bfzeta': '\\boldsymbol{\\zeta}'\n",
    "    '\\bfeta': '\\boldsymbol{\\eta}'\n",
    "    '\\bftheta': '\\boldsymbol{\\theta}'\n",
    "    '\\bfiota': '\\boldsymbol{\\iota}'\n",
    "    '\\bfkappa': '\\boldsymbol{\\kappa}'\n",
    "    '\\bflambda': '\\boldsymbol{\\lambda}'\n",
    "    '\\bfmu': '\\boldsymbol{\\mu}'\n",
    "    '\\bfnu': '\\boldsymbol{\\nu}'\n",
    "    '\\bfomicron': '\\boldsymbol{\\omicron}'\n",
    "    '\\bfpi': '\\boldsymbol{\\pi}'\n",
    "    '\\bfrho': '\\boldsymbol{\\rho}'\n",
    "    '\\bfsigma': '\\boldsymbol{\\sigma}'\n",
    "    '\\bftau': '\\boldsymbol{\\tau}'\n",
    "    '\\bfupsilon': '\\boldsymbol{\\upsilon}'\n",
    "    '\\bfphi': '\\boldsymbol{\\phi}'\n",
    "    '\\bfchi': '\\boldsymbol{\\chi}'\n",
    "    '\\bfpsi': '\\boldsymbol{\\psi}'\n",
    "    '\\bfomega': '\\boldsymbol{\\omega}'\n",
    "    '\\bfxi': '\\boldsymbol{\\xi}'\n",
    "    '\\bfell': '\\boldsymbol{\\ell}'\n",
    "    '\\bfA': '\\mathbf{A}'\n",
    "    '\\bfB': '\\mathbf{B}'\n",
    "    '\\bfC': '\\mathbf{C}'\n",
    "    '\\bfD': '\\mathbf{D}'\n",
    "    '\\bfE': '\\mathbf{E}'\n",
    "    '\\bfF': '\\mathbf{F}'\n",
    "    '\\bfG': '\\mathbf{G}'\n",
    "    '\\bfH': '\\mathbf{H}'\n",
    "    '\\bfI': '\\mathbf{I}'\n",
    "    '\\bfJ': '\\mathbf{J}'\n",
    "    '\\bfK': '\\mathbf{K}'\n",
    "    '\\bfL': '\\mathbf{L}'\n",
    "    '\\bfM': '\\mathbf{M}'\n",
    "    '\\bfN': '\\mathbf{N}'\n",
    "    '\\bfO': '\\mathbf{O}'\n",
    "    '\\bfP': '\\mathbf{P}'\n",
    "    '\\bfQ': '\\mathbf{Q}'\n",
    "    '\\bfR': '\\mathbf{R}'\n",
    "    '\\bfS': '\\mathbf{S}'\n",
    "    '\\bfT': '\\mathbf{T}'\n",
    "    '\\bfU': '\\mathbf{U}'\n",
    "    '\\bfV': '\\mathbf{V}'\n",
    "    '\\bfW': '\\mathbf{W}'\n",
    "    '\\bfX': '\\mathbf{X}'\n",
    "    '\\bfY': '\\mathbf{Y}'\n",
    "    '\\bfZ': '\\mathbf{Z}'\n",
    "    '\\bfGamma': '\\boldsymbol{\\Gamma}'\n",
    "    '\\bfDelta': '\\boldsymbol{\\Delta}'\n",
    "    '\\bfTheta': '\\boldsymbol{\\Theta}'\n",
    "    '\\bfLambda': '\\boldsymbol{\\Lambda}'\n",
    "    '\\bfPi': '\\boldsymbol{\\Pi}'\n",
    "    '\\bfSigma': '\\boldsymbol{\\Sigma}'\n",
    "    '\\bfUpsilon': '\\boldsymbol{\\Upsilon}'\n",
    "    '\\bfPhi': '\\boldsymbol{\\Phi}'\n",
    "    '\\bfPsi': '\\boldsymbol{\\Psi}'\n",
    "    '\\bfOmega': '\\boldsymbol{\\Omega}'\n",
    "    '\\bbA': '\\mathbb{A}'\n",
    "    '\\bbB': '\\mathbb{B}'\n",
    "    '\\bbC': '\\mathbb{C}'\n",
    "    '\\bbD': '\\mathbb{D}'\n",
    "    '\\bbE': '\\mathbb{E}'\n",
    "    '\\bbF': '\\mathbb{F}'\n",
    "    '\\bbG': '\\mathbb{G}'\n",
    "    '\\bbH': '\\mathbb{H}'\n",
    "    '\\bbI': '\\mathbb{I}'\n",
    "    '\\bbJ': '\\mathbb{J}'\n",
    "    '\\bbK': '\\mathbb{K}'\n",
    "    '\\bbL': '\\mathbb{L}'\n",
    "    '\\bbM': '\\mathbb{M}'\n",
    "    '\\bbN': '\\mathbb{N}'\n",
    "    '\\bbO': '\\mathbb{O}'\n",
    "    '\\bbP': '\\mathbb{P}'\n",
    "    '\\bbQ': '\\mathbb{Q}'\n",
    "    '\\bbR': '\\mathbb{R}'\n",
    "    '\\bbS': '\\mathbb{S}'\n",
    "    '\\bbT': '\\mathbb{T}'\n",
    "    '\\bbU': '\\mathbb{U}'\n",
    "    '\\bbV': '\\mathbb{V}'\n",
    "    '\\bbW': '\\mathbb{W}'\n",
    "    '\\bbX': '\\mathbb{X}'\n",
    "    '\\bbY': '\\mathbb{Y}'\n",
    "    '\\bbZ': '\\mathbb{Z}'\n",
    "    '\\p'  : '\\partial'\n",
    "---"
   ]
  },
  {
   "cell_type": "markdown",
   "id": "275d5ee8-2342-44e5-873d-442d7de34fe7",
   "metadata": {},
   "source": [
    "# Visualizing eigen vectors"
   ]
  },
  {
   "cell_type": "markdown",
   "id": "93c12b39-50bf-4027-9fe7-003e77c7ff8d",
   "metadata": {},
   "source": [
    "### Helper functions"
   ]
  },
  {
   "cell_type": "code",
   "execution_count": null,
   "id": "018410b0-993a-4fbc-b6f1-ee56288bcd8b",
   "metadata": {},
   "outputs": [],
   "source": [
    "import numpy as np\n",
    "def random_symmetric_matrix(n):\n",
    "    A = np.random.rand(n, n)\n",
    "    return A + A.T\n",
    "\n",
    "def random_positive_definite_matrix(n):\n",
    "    A = np.random.rand(n, n)\n",
    "    return A.T @ A"
   ]
  },
  {
   "cell_type": "code",
   "execution_count": null,
   "id": "f4650b6f-c399-440e-9cdf-b96ea2a895e6",
   "metadata": {},
   "outputs": [],
   "source": [
    "import matplotlib.pyplot as plt\n",
    "def plot_contour(ax, func):\n",
    "    x, y = np.mgrid[-2:2:21j,\n",
    "                    -2:2:21j]\n",
    "    bfx = np.concatenate([x[..., None], y[..., None]], axis=-1)\n",
    "    f = func(bfx)\n",
    "    ctr = ax.contour(x, y, f, 20, cmap='Blues_r')\n",
    "    plt.clabel(ctr, ctr.levels, inline=True, fontsize=6)\n",
    "    ax.set_xlabel('$x$')\n",
    "    ax.set_ylabel('$y$')\n",
    "    return ax\n",
    "\n",
    "\n",
    "def draw_arrows(ax, xs):\n",
    "    ax.arrow(0, 0, xs[0, 0], xs[0, 1], color='r', head_width=0.05)\n",
    "    ax.arrow(0, 0, xs[1, 0], xs[1, 1], color='y', head_width=0.05)\n",
    "    ax.axis('equal')\n",
    "    return ax"
   ]
  },
  {
   "cell_type": "code",
   "execution_count": null,
   "id": "482e6461-dbe0-42ee-921a-51d2b3939ab3",
   "metadata": {},
   "outputs": [],
   "source": [
    "def f(x, A=np.array([[2, -1], [-1, 3]])):\n",
    "    # x is m x m x n tensor\n",
    "    x_row_vec = x[..., None, :] # m x m x 1 x n\n",
    "    x_col_vec = x[..., :, None] # m x m x n x 1\n",
    "    res = x_row_vec @ A @ x_col_vec # m x m x 1 x 1\n",
    "    return res[..., 0, 0] # m x m\n",
    "\n",
    "fig, ax = plt.subplots()\n",
    "plot_contour(ax, f)\n",
    "ax"
   ]
  },
  {
   "cell_type": "markdown",
   "id": "23b9aa97-62b7-44a7-8b1e-3c837e1a10af",
   "metadata": {},
   "source": [
    "## Eigeven value decomposition\n"
   ]
  },
  {
   "cell_type": "markdown",
   "id": "2386a187-461f-4ee3-abc8-4fa4002bb860",
   "metadata": {},
   "source": [
    "\n",
    "Recall that eigen values $\\lambda \\in \\bbR$ and eigen vectors $\\bfv \\in \\bbR^n$ are the solutions to the equation,\n",
    "$$A \\bfv = \\lambda \\bfv$$\n",
    "\n",
    "There are $n$ such solutions let $\\lambda_i$ $\\bfv_i$ for $i \\in \\{ 1, \\dots, n\\}$   be such solutions.\n",
    "\\begin{align}\n",
    "A\\bfv_1 &= \\lambda_1 \\bfv_1 \\\\\n",
    "A\\bfv_2 &= \\lambda_2 \\bfv_2 \\\\\n",
    "\\vdots &\\\\\n",
    "A\\bfv_n &= \\lambda_n \\bfv_n\n",
    "\\end{align}"
   ]
  },
  {
   "cell_type": "markdown",
   "id": "d25f9f48-011d-4e28-acd9-5a8f2908901e",
   "metadata": {},
   "source": [
    "You can arrange these equations in a matrix\n",
    "$$ \n",
    "\\begin{bmatrix} A\\bfv_1 & A\\bfv_2 & \\dots & A\\bfv_n \\end{bmatrix}\n",
    "= \n",
    "\\begin{bmatrix} \\lambda_1\\bfv_1 & \\lambda_2\\bfv_2 & \\dots & \\lambda_n\\bfv_n \\end{bmatrix}\n",
    "$$\n",
    "\n",
    "You can take $A$ common from the left hand side. On the right hand side, you will have to construct a diagonal matrix of $\\lambda_i$ for factorizing eigen vectors and eigen values.\n",
    "\n",
    "$$\n",
    "A\n",
    "\\underbrace{\n",
    "\\begin{bmatrix} \\bfv_1 & \\bfv_2 & \\dots & \\bfv_n \\end{bmatrix}}_{V}\n",
    "= \n",
    "\\underbrace{\n",
    "\\begin{bmatrix} \\bfv_1 & \\bfv_2 & \\dots & \\bfv_n \\end{bmatrix}}_{V}\n",
    "\\underbrace{\n",
    "\\begin{bmatrix}\n",
    "\\lambda_1 & 0 & \\dots & 0\\\\\n",
    "0 & \\lambda_2  & \\dots & 0\\\\\n",
    "\\vdots & \\vdots & \\ddots & \\vdots \\\\\n",
    "0 & 0 & \\dots & \\lambda_n\n",
    "\\end{bmatrix}}_{\\Lambda}\n",
    "$$"
   ]
  },
  {
   "cell_type": "markdown",
   "id": "61b54420-2ab4-48cd-9f9b-9831caa810b2",
   "metadata": {},
   "source": [
    "#### Homework 4: Problem 2 (10 marks)\n",
    "\n",
    "Prove that\n",
    "$$ \\begin{bmatrix} \\lambda_1\\bfv_1 & \\lambda_2\\bfv_2 & \\dots & \\lambda_n\\bfv_n \\end{bmatrix} =  \n",
    "\\begin{bmatrix} \\bfv_1 & \\bfv_2 & \\dots & \\bfv_n \\end{bmatrix}\n",
    "\\begin{bmatrix}\n",
    "\\lambda_1 & 0 & \\dots & 0\\\\\n",
    "0 & \\lambda_2  & \\dots & 0\\\\\n",
    "\\vdots & \\vdots & \\ddots & \\vdots \\\\\n",
    "0 & 0 & \\dots & \\lambda_n\n",
    "\\end{bmatrix}\n",
    "$$\n"
   ]
  },
  {
   "cell_type": "markdown",
   "id": "0c59a19a-2d53-412a-80af-566850a3a1a6",
   "metadata": {},
   "source": [
    "Verify that the above matrix multiplication gives the same results.\n",
    "\n",
    "$$ A V =  V\\Lambda $$\n",
    "$V$ is a matrix of eigen vectors arranged as columns. And $\\Lambda$ is a diagonal matrix of eigen values.\n",
    "\n",
    "**If the matrix $V$ is invertible**, then we can right multiply $V^{-1}$ to both sides,\n",
    "$$ A = V \\Lambda V^{-1} $$\n",
    "\n",
    "We have found a way to factorize (or decompose) a square matrix $A$. This particular decomposition is called *Eigen value decomposition*. When such a decomposition exists, the matrix $A$ is called diagonalizable. A generalized form of such decomposition also exists, which is called generalized eigen value decomposition, where the middle matrix is a block diagonal matrix, not diagonal matrix. "
   ]
  },
  {
   "cell_type": "markdown",
   "id": "df1bb6f8-5bc0-4f20-8e3e-33973043ed5d",
   "metadata": {},
   "source": [
    "#### Theorem: Symmeteric matrices have orthonormal Eigen vectors\n",
    "\n",
    "When a square matrix $A \\in \\bbR^{n \\times n}$ is real and symmetric, then its Eigen value decomposition exists, $A$ is diagonalizable, and the eigen matrix $V$ is an orthogonal matrix. \n",
    "\n",
    "**If the matrix $A$ is symmetric,**\n",
    "$$ A = V\\Lambda V^\\top$$ where $V^{-1} = V^\\top$."
   ]
  },
  {
   "cell_type": "markdown",
   "id": "7f1158f2-08fe-44e7-bd17-71e842fb8034",
   "metadata": {},
   "source": [
    "##### Proof:\n",
    "\n",
    "Proof will take too much time out of the class. Interested readers are encouraged to read about [Gram-Schmidt orthogonalization](https://drive.google.com/file/d/1Agze6XXBs4Sw2JASpRYH4MoWk1NlKBM2/view?usp=drive_link), [Schur's lemma and Spectral theorem](https://drive.google.com/file/d/1osUzRGDTbScpUxYIhVPPK_v2uylwiD04/view?usp=drive_link)."
   ]
  },
  {
   "cell_type": "markdown",
   "id": "a0d5e50a-455b-4772-945e-b39f65a40fa2",
   "metadata": {},
   "source": [
    "#### Definition (Orthonormal)\n",
    "A matrix $V \\in \\bbR^{n \\times n}$ is called orthonormal or orthogonal if $V^\\top V = I_n$ equivalently, $V^{-1} = V^\\top$."
   ]
  },
  {
   "cell_type": "markdown",
   "id": "f2138875-4fd1-423e-9c5c-bfc4109247c4",
   "metadata": {},
   "source": [
    "### Example"
   ]
  },
  {
   "cell_type": "markdown",
   "id": "043896ed-55af-4fd9-82b6-5dce5244b63f",
   "metadata": {},
   "source": [
    "Consider the quadratic form of a symmetric matrix $A \\in \\bbR^{n \\times n}$,\n",
    "$$ f(\\bfx) = \\bfx^\\top A \\bfx $$\n",
    "\n",
    "Because the matrix **$A$ is symmetric**, we can write \n",
    "$$ f(\\bfx) = \\bfx^\\top V\\Lambda V^\\top \\bfx = (V\\bfx)^\\top \\Lambda (V\\bfx)$$ for eigen value decomposition of $A = V\\Lambda V^\\top $\n"
   ]
  },
  {
   "cell_type": "code",
   "execution_count": null,
   "id": "dad44d6d-e574-4da6-b403-13cb5a5d29a7",
   "metadata": {},
   "outputs": [],
   "source": [
    "A = np.array([[2, -1],\n",
    "             [-1, 3]])\n",
    "A"
   ]
  },
  {
   "cell_type": "markdown",
   "id": "3b0685fe-559e-4368-9b00-63c4f046fdf6",
   "metadata": {},
   "source": [
    "`np.linalg.eigh` finds Eigen values of a Hermitian matrix. "
   ]
  },
  {
   "cell_type": "code",
   "execution_count": null,
   "id": "8dc0f158-4653-411f-938e-30c61701122b",
   "metadata": {},
   "outputs": [],
   "source": [
    "lambdas, V = np.linalg.eigh(A)"
   ]
  },
  {
   "cell_type": "code",
   "execution_count": null,
   "id": "f3ac7df8-3ee4-4dc2-b815-688f92fd6d17",
   "metadata": {},
   "outputs": [],
   "source": [
    "V"
   ]
  },
  {
   "cell_type": "markdown",
   "id": "4fe40635-dc72-43f8-a495-af34d42eb6ac",
   "metadata": {},
   "source": [
    "#### Definition (Conjugate transpose)\n",
    "\n",
    "Conjugate transpose of a complex square matrix $A \\in \\bbC^{n \\times n}$ is defined as \n",
    "$$ A^H = Re(A)^\\top - \\iota Im(A)^\\top, $$\n",
    "where $Re(A)$ is the real part of the matrix $A$ and $Im(A)$ is the imaginary part of matrix $A = Re(A) + \\iota Im(A)$ and $\\iota = \\sqrt{-1}$. \n",
    "\n",
    "Conjugate transpose is the generalization of transpose to complex matrices."
   ]
  },
  {
   "cell_type": "markdown",
   "id": "e4b72fe5-3c7a-4abe-9276-8bd76e84cb9f",
   "metadata": {},
   "source": [
    "#### Definition (Hermitian matrix)\n",
    "\n",
    "A complex matrix $A \\in \\bbC^{n \\times n}$ is said to be Hermitian matrix if \n",
    "$$ A^H = A $$\n",
    "\n",
    "Hermitian matrix is a generalization of symmetric matrices to complex matrices."
   ]
  },
  {
   "cell_type": "markdown",
   "id": "55a251f6-03ae-4dc2-a5df-227d65429184",
   "metadata": {},
   "source": [
    "#### Theorem: Eigen values of an Hermitian matrices are real"
   ]
  },
  {
   "cell_type": "markdown",
   "id": "dffe7955-fafe-41be-beab-a96c2b52c422",
   "metadata": {},
   "source": [
    "For a complex vector $\\bfx \\in \\bbC^n$, the dot product\n",
    "$\\bfx^H \\bfx \\in \\bbR$ is real. \n",
    "\n",
    "$$\\bfx^H \\bfx = \\bar{x}_1 x_1 + \\bar{x}_2 x_2 + \\dots + \\bar{x}_n x_n, $$\n",
    "\n",
    "where $\\bar{x}_i$ denotes the complex conjugate of $x_i$. If $x_i = a_i + \\iota b_i $, then $\\bar{x}_i = a_i - \\iota b_i$. Note that $\\bar{x}_i x_i = a^2_i + b^2_i$ is real. Because each element is real, hence their sum $\\bfx^H \\bfx$ is real.\n",
    "\n",
    "Let $A\\in\\bbC^{n \\times n}$ be Hermitian then, its eigen vectors $\\bfv_i \\in \\bbC^n$ and eigen values $\\lambda \\in \\bbC$ satisify\n",
    "$$ A \\bfv_i = \\lambda_i \\bfv_i$$\n",
    "Multiply both sides on the left by $\\bfv_i^H$\n",
    "\n",
    "$$ \\bfv_i^H A \\bfv_i = \\lambda_i \\bfv^H \\bfv_i$$\n",
    "or\n",
    "$$ \\lambda_i = \\frac{\\bfv_i^H A \\bfv_i}{\\bfv^H \\bfv_i} $$\n",
    "Take complex conjugate on both sides,\n",
    "$$ \\bar{\\lambda}_i = \\frac{\\overline{\\bfv_i^H A \\bfv_i}}{\\overline{\\bfv_i^H \\bfv_i}}$$\n",
    "We know the denominator $\\bfv_i^H\\bfv_i$ is real. Numerator can be computed by taking the Hermitian transpose of the product,\n",
    "$$ \\bar{\\lambda}_i = \\frac{\\bfv_i^H A^H \\bfv_i}{\\bfv_i^H \\bfv_i}$$\n",
    "\n",
    "Because $A^H$ is Hermitian, $A^H = A$, which implies,\n",
    "$$ \\bar{\\lambda}_i = \\lambda_i.$$\n",
    "This implies that $\\lambda_i\\in \\bbR$ is real. \n",
    "\n",
    "When $\\lambda_i$ is real "
   ]
  },
  {
   "cell_type": "markdown",
   "id": "bed71e5e-4a10-4f73-8e84-f4a9667576a2",
   "metadata": {},
   "source": [
    "#### Theorem: Eigen vectors of a real symmetric matrices are real"
   ]
  },
  {
   "cell_type": "markdown",
   "id": "a8c4dc72-2120-45ba-8a33-86313e48e656",
   "metadata": {},
   "source": [
    "Because real symmetric matrices are also hermitian matrices, their eigen values are real. If their eigen values are real, then eigen vectors that are non-zero solutions to the equation\n",
    "$$ (A - \\lambda I_n) \\bfv = \\mathbf{0} $$ are also real."
   ]
  },
  {
   "cell_type": "markdown",
   "id": "cfc0cb05-bfa2-43fb-8c1f-c310b792cbc9",
   "metadata": {},
   "source": [
    "`np.linalg.eigh` finds Eigen values of a Hermitian matrix. "
   ]
  },
  {
   "cell_type": "code",
   "execution_count": null,
   "id": "f2c49bc1-31cc-448e-88b4-419104e2c965",
   "metadata": {},
   "outputs": [],
   "source": [
    "lambdas, V = np.linalg.eigh(A)"
   ]
  },
  {
   "cell_type": "code",
   "execution_count": null,
   "id": "7ccebde0-0a44-406e-aaef-99f06518f2ef",
   "metadata": {},
   "outputs": [],
   "source": [
    "lambdas"
   ]
  },
  {
   "cell_type": "code",
   "execution_count": null,
   "id": "5c997e02-786b-45d9-9d79-94a14655aca2",
   "metadata": {},
   "outputs": [],
   "source": [
    "V"
   ]
  },
  {
   "cell_type": "markdown",
   "id": "56160d13-3733-4359-a7f7-aaf52ae57bf7",
   "metadata": {},
   "source": [
    "You can verify that the eigen values and vectors are correct by checking if \n",
    "$$ A = V \\Lambda V^\\top $$"
   ]
  },
  {
   "cell_type": "code",
   "execution_count": null,
   "id": "89f284fd-7113-489a-819d-cb10ed51b4a0",
   "metadata": {},
   "outputs": [],
   "source": [
    "V @ np.diag(lambdas) @ V.T"
   ]
  },
  {
   "cell_type": "code",
   "execution_count": null,
   "id": "dbc6d331-3552-434f-a957-0f60df4dd26b",
   "metadata": {},
   "outputs": [],
   "source": [
    "np.allclose(A, V @ np.diag(lambdas) @ V.T)"
   ]
  },
  {
   "cell_type": "markdown",
   "id": "7b7b3b1d-814c-46f6-8502-790053464ce8",
   "metadata": {},
   "source": [
    "Recall that we were analyzing the function,\n",
    "\n",
    "$$ f(\\bfx) = \\bfx^\\top A \\bfx = \\bfx^\\top V \\Lambda V^\\top \\bfx = (V^\\top\\bfx)^\\top \\Lambda (V^\\top \\bfx)$$ \n",
    "\n",
    "With this we can break down the computation of function $f(\\bfx)$ in two steps, \n",
    "$$\\bfy = V^\\top \\bfx \\iff \\bfx = V \\bfy, $$ followed by scaling,\n",
    "\n",
    "$$ f(\\bfx) = \\bfy^\\top \\Lambda \\bfy $$\n",
    "\n",
    "If all eigen values are positive ($A$ is positive definite), we can break down eigen values into their square roots and then \n",
    "$$\\bfz = \\sqrt{\\Lambda} \\bfy \\iff \\bfy = \\sqrt{\\Lambda}^{-1}$$ can be understood as element wise scaling.\n",
    "\n",
    "$$ f(\\bfx) = \\bfz^\\top \\bfz $$\n",
    "\n",
    "Note that $\\bfz^\\top \\bfz = z_1^2 + z_2^2 + \\dots + z_n^2 = f_1$ is equation of a circle in terms of $\\bfz$ for a contour where $f(\\bfz) = f_1$. We can also start from a circle plot for $\\bfz$ ."
   ]
  },
  {
   "cell_type": "markdown",
   "id": "062c8ede-c1ee-4dff-a2ce-a434370f8ce5",
   "metadata": {},
   "source": [
    "and then compute and plot\n",
    "$$ \\bfy = \\sqrt{\\Lambda}^{-1}  \\bfz.$$"
   ]
  },
  {
   "cell_type": "markdown",
   "id": "12ddfbbb-7b45-4e81-a0ed-841d14ccaf77",
   "metadata": {},
   "source": [
    "Note that the principle axes of the circle are scaled by eigen values.\n",
    "\n",
    "Next we compute and plot $\\bfx$  from $\\bfy$\n",
    "$$ \\bfx = V\\bfy$$"
   ]
  },
  {
   "cell_type": "code",
   "execution_count": null,
   "id": "fd2f1e07-8ebf-48fc-9105-bfb2f62d63e3",
   "metadata": {},
   "outputs": [],
   "source": [
    "import matplotlib as mpl\n",
    "from functools import partial\n",
    "\n",
    "def f_wrt_y(lambdas, y):\n",
    "    # lambdas is of shape 2\n",
    "    # y is of shape m x m x n\n",
    "    return (y * lambdas * y).sum(axis=-1)\n",
    "\n",
    "def f_wrt_z(z):\n",
    "    # z is m x m x n\n",
    "    return (z * z).sum(axis=-1)\n",
    "\n",
    "zs = np.array([\n",
    "    [1, 0],\n",
    "    [0, 1]])"
   ]
  },
  {
   "cell_type": "code",
   "execution_count": null,
   "id": "d57f5950-ee3e-49b4-b459-f1b4e0265e2d",
   "metadata": {},
   "outputs": [],
   "source": [
    "fig, axes = plt.subplots(1, 3, figsize=(18, 6))\n",
    "\n",
    "ax = axes[0]\n",
    "plot_contour(ax, f_wrt_z)\n",
    "ax.set_title(r'$\\mathbf{z}$')\n",
    "ax.set_xlabel(r'$z_1$')\n",
    "ax.set_ylabel(r'$z_2$')\n",
    "draw_arrows(ax, zs)\n",
    "\n",
    "ax = axes[1]\n",
    "plot_contour(ax, partial(f_wrt_y, lambdas))\n",
    "ax.set_title(r'$\\mathbf{y} = \\sqrt{\\Lambda}^{-1} \\mathbf{z}$')\n",
    "ax.set_xlabel(r'$y_1$')\n",
    "ax.set_ylabel(r'$y_2$')\n",
    "ys =  zs / np.sqrt(lambdas)\n",
    "draw_arrows(ax, ys)\n",
    "\n",
    "ax = axes[2]\n",
    "plot_contour(ax, partial(f, A=A))\n",
    "ax.set_title(r'$\\mathbf{x} = V \\sqrt{\\Lambda}^{-1} \\mathbf{z}$')\n",
    "ax.set_xlabel(r'$x_1$')\n",
    "ax.set_ylabel(r'$x_2$')\n",
    "xs = (V @ ys.T).T\n",
    "draw_arrows(ax, xs)"
   ]
  },
  {
   "cell_type": "markdown",
   "id": "4396d813-f63b-48bd-9628-7276cfc04611",
   "metadata": {},
   "source": [
    "Note that countours of $f(\\bfx)$ are exactly alinged with the transformed circle from $\\bfz$ to $\\bfx$"
   ]
  },
  {
   "cell_type": "markdown",
   "id": "57a20c2e-f84a-49f1-9589-b7a95cf6fc28",
   "metadata": {},
   "source": [
    "#### Eigen values of saddle point (Indefinite  matrix)"
   ]
  },
  {
   "cell_type": "code",
   "execution_count": null,
   "id": "2b483d4e-8714-466f-8af1-f4dbfb4b2779",
   "metadata": {},
   "outputs": [],
   "source": [
    "A = np.array([[2, -1],\n",
    "             [-1, -3]])\n",
    "A"
   ]
  },
  {
   "cell_type": "code",
   "execution_count": null,
   "id": "efc8aac8-ab25-42b0-98f3-907a53bf7c62",
   "metadata": {},
   "outputs": [],
   "source": [
    "lambdas, V = np.linalg.eigh(A)\n",
    "lambdas"
   ]
  },
  {
   "cell_type": "markdown",
   "id": "214d3835-910d-4c49-b31a-44ba37cc7bfb",
   "metadata": {},
   "source": [
    "Note that the eigen values are neither all positive nor all negative. We cannot take the square root directly and we have\n",
    "to be respectful of the sign of the lambdas."
   ]
  },
  {
   "cell_type": "code",
   "execution_count": null,
   "id": "6b5a72f6-5d63-481a-8378-491680283719",
   "metadata": {},
   "outputs": [],
   "source": [
    "fig, axes = plt.subplots(1, 3, figsize=(18, 6))\n",
    "\n",
    "ax = axes[0]\n",
    "plot_contour(ax, f_wrt_z)\n",
    "ax.set_title(r'$\\mathbf{z}$')\n",
    "ax.set_xlabel(r'$z_1$')\n",
    "ax.set_ylabel(r'$z_2$')\n",
    "draw_arrows(ax, zs)\n",
    "\n",
    "ax = axes[1]\n",
    "plot_contour(ax, partial(f_wrt_y, lambdas))\n",
    "ax.set_title(r'$\\mathbf{y} = \\text{sign}(\\Lambda)\\sqrt{|\\Lambda|}^{-1} \\mathbf{z}$')\n",
    "ax.set_xlabel(r'$y_1$')\n",
    "ax.set_ylabel(r'$y_2$')\n",
    "ys =  zs / np.sign(lambdas) * np.sqrt(np.abs(lambdas))\n",
    "draw_arrows(ax, ys)\n",
    "\n",
    "ax = axes[2]\n",
    "plot_contour(ax, partial(f, A=A))\n",
    "ax.set_title(r'$\\mathbf{x} = V \\text{sign}(\\Lambda)\\sqrt{|\\Lambda|}^{-1} \\mathbf{z}$')\n",
    "ax.set_xlabel(r'$x_1$')\n",
    "ax.set_ylabel(r'$x_2$')\n",
    "xs = (V @ ys.T).T\n",
    "draw_arrows(ax, xs)"
   ]
  },
  {
   "cell_type": "code",
   "execution_count": null,
   "id": "3d12885a-e8f9-4d58-86de-5af9954dc1f8",
   "metadata": {},
   "outputs": [],
   "source": []
  }
 ],
 "metadata": {
  "kernelspec": {
   "display_name": "Python 3 (ipykernel)",
   "language": "python",
   "name": "python3"
  },
  "language_info": {
   "codemirror_mode": {
    "name": "ipython",
    "version": 3
   },
   "file_extension": ".py",
   "mimetype": "text/x-python",
   "name": "python",
   "nbconvert_exporter": "python",
   "pygments_lexer": "ipython3",
   "version": "3.10.12"
  }
 },
 "nbformat": 4,
 "nbformat_minor": 5
}
