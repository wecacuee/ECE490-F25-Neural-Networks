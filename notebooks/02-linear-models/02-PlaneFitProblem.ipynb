{
 "cells": [
  {
   "cell_type": "markdown",
   "id": "d1f44af6-b251-4cb9-ad06-f6c5d965183b",
   "metadata": {},
   "source": [
    "---\n",
    "title: Plane Fit Problem\n",
    "exports:\n",
    "  - format: pdf\n",
    "    template: plain_latex\n",
    "    output: exports/02-plane-fit.pdf\n",
    "    logo: false\n",
    "    link: true\n",
    "downloads:\n",
    "  - file: exports/02-plane-fit.pdf\n",
    "  - file: 02-PlaneFitProblem.ipynb\n",
    "math:\n",
    "    '\\calA': '{\\cal A}'\n",
    "    '\\calB': '{\\cal B}'\n",
    "    '\\calC': '{\\cal C}'\n",
    "    '\\calD': '{\\cal D}'\n",
    "    '\\calE': '{\\cal E}'\n",
    "    '\\calF': '{\\cal F}'\n",
    "    '\\calG': '{\\cal G}'\n",
    "    '\\calH': '{\\cal H}'\n",
    "    '\\calI': '{\\cal I}'\n",
    "    '\\calJ': '{\\cal J}'\n",
    "    '\\calK': '{\\cal K}'\n",
    "    '\\calL': '{\\cal L}'\n",
    "    '\\calM': '{\\cal M}'\n",
    "    '\\calN': '{\\cal N}'\n",
    "    '\\calO': '{\\cal O}'\n",
    "    '\\calP': '{\\cal P}'\n",
    "    '\\calQ': '{\\cal Q}'\n",
    "    '\\calR': '{\\cal R}'\n",
    "    '\\calS': '{\\cal S}'\n",
    "    '\\calT': '{\\cal T}'\n",
    "    '\\calU': '{\\cal U}'\n",
    "    '\\calV': '{\\cal V}'\n",
    "    '\\calW': '{\\cal W}'\n",
    "    '\\calX': '{\\cal X}'\n",
    "    '\\calY': '{\\cal Y}'\n",
    "    '\\calZ': '{\\cal Z}'\n",
    "    '\\setA': '\\textsf{A}'\n",
    "    '\\setB': '\\textsf{B}'\n",
    "    '\\setC': '\\textsf{C}'\n",
    "    '\\setD': '\\textsf{D}'\n",
    "    '\\setE': '\\textsf{E}'\n",
    "    '\\setF': '\\textsf{F}'\n",
    "    '\\setG': '\\textsf{G}'\n",
    "    '\\setH': '\\textsf{H}'\n",
    "    '\\setI': '\\textsf{I}'\n",
    "    '\\setJ': '\\textsf{J}'\n",
    "    '\\setK': '\\textsf{K}'\n",
    "    '\\setL': '\\textsf{L}'\n",
    "    '\\setM': '\\textsf{M}'\n",
    "    '\\setN': '\\textsf{N}'\n",
    "    '\\setO': '\\textsf{O}'\n",
    "    '\\setP': '\\textsf{P}'\n",
    "    '\\setQ': '\\textsf{Q}'\n",
    "    '\\setR': '\\textsf{R}'\n",
    "    '\\setS': '\\textsf{S}'\n",
    "    '\\setT': '\\textsf{T}'\n",
    "    '\\setU': '\\textsf{U}'\n",
    "    '\\setV': '\\textsf{V}'\n",
    "    '\\setW': '\\textsf{W}'\n",
    "    '\\setX': '\\textsf{X}'\n",
    "    '\\setY': '\\textsf{Y}'\n",
    "    '\\setZ': '\\textsf{Z}'\n",
    "    '\\bfa': '\\mathbf{a}'\n",
    "    '\\bfb': '\\mathbf{b}'\n",
    "    '\\bfc': '\\mathbf{c}'\n",
    "    '\\bfd': '\\mathbf{d}'\n",
    "    '\\bfe': '\\mathbf{e}'\n",
    "    '\\bff': '\\mathbf{f}'\n",
    "    '\\bfg': '\\mathbf{g}'\n",
    "    '\\bfh': '\\mathbf{h}'\n",
    "    '\\bfi': '\\mathbf{i}'\n",
    "    '\\bfj': '\\mathbf{j}'\n",
    "    '\\bfk': '\\mathbf{k}'\n",
    "    '\\bfl': '\\mathbf{l}'\n",
    "    '\\bfm': '\\mathbf{m}'\n",
    "    '\\bfn': '\\mathbf{n}'\n",
    "    '\\bfo': '\\mathbf{o}'\n",
    "    '\\bfp': '\\mathbf{p}'\n",
    "    '\\bfq': '\\mathbf{q}'\n",
    "    '\\bfr': '\\mathbf{r}'\n",
    "    '\\bfs': '\\mathbf{s}'\n",
    "    '\\bft': '\\mathbf{t}'\n",
    "    '\\bfu': '\\mathbf{u}'\n",
    "    '\\bfv': '\\mathbf{v}'\n",
    "    '\\bfw': '\\mathbf{w}'\n",
    "    '\\bfx': '\\mathbf{x}'\n",
    "    '\\bfy': '\\mathbf{y}'\n",
    "    '\\bfz': '\\mathbf{z}'\n",
    "    '\\bfalpha': '\\boldsymbol{\\alpha}'\n",
    "    '\\bfbeta': '\\boldsymbol{\\beta}'\n",
    "    '\\bfgamma': '\\boldsymbol{\\gamma}'\n",
    "    '\\bfdelta': '\\boldsymbol{\\delta}'\n",
    "    '\\bfepsilon': '\\boldsymbol{\\epsilon}'\n",
    "    '\\bfzeta': '\\boldsymbol{\\zeta}'\n",
    "    '\\bfeta': '\\boldsymbol{\\eta}'\n",
    "    '\\bftheta': '\\boldsymbol{\\theta}'\n",
    "    '\\bfiota': '\\boldsymbol{\\iota}'\n",
    "    '\\bfkappa': '\\boldsymbol{\\kappa}'\n",
    "    '\\bflambda': '\\boldsymbol{\\lambda}'\n",
    "    '\\bfmu': '\\boldsymbol{\\mu}'\n",
    "    '\\bfnu': '\\boldsymbol{\\nu}'\n",
    "    '\\bfomicron': '\\boldsymbol{\\omicron}'\n",
    "    '\\bfpi': '\\boldsymbol{\\pi}'\n",
    "    '\\bfrho': '\\boldsymbol{\\rho}'\n",
    "    '\\bfsigma': '\\boldsymbol{\\sigma}'\n",
    "    '\\bftau': '\\boldsymbol{\\tau}'\n",
    "    '\\bfupsilon': '\\boldsymbol{\\upsilon}'\n",
    "    '\\bfphi': '\\boldsymbol{\\phi}'\n",
    "    '\\bfchi': '\\boldsymbol{\\chi}'\n",
    "    '\\bfpsi': '\\boldsymbol{\\psi}'\n",
    "    '\\bfomega': '\\boldsymbol{\\omega}'\n",
    "    '\\bfxi': '\\boldsymbol{\\xi}'\n",
    "    '\\bfell': '\\boldsymbol{\\ell}'\n",
    "    '\\bfA': '\\mathbf{A}'\n",
    "    '\\bfB': '\\mathbf{B}'\n",
    "    '\\bfC': '\\mathbf{C}'\n",
    "    '\\bfD': '\\mathbf{D}'\n",
    "    '\\bfE': '\\mathbf{E}'\n",
    "    '\\bfF': '\\mathbf{F}'\n",
    "    '\\bfG': '\\mathbf{G}'\n",
    "    '\\bfH': '\\mathbf{H}'\n",
    "    '\\bfI': '\\mathbf{I}'\n",
    "    '\\bfJ': '\\mathbf{J}'\n",
    "    '\\bfK': '\\mathbf{K}'\n",
    "    '\\bfL': '\\mathbf{L}'\n",
    "    '\\bfM': '\\mathbf{M}'\n",
    "    '\\bfN': '\\mathbf{N}'\n",
    "    '\\bfO': '\\mathbf{O}'\n",
    "    '\\bfP': '\\mathbf{P}'\n",
    "    '\\bfQ': '\\mathbf{Q}'\n",
    "    '\\bfR': '\\mathbf{R}'\n",
    "    '\\bfS': '\\mathbf{S}'\n",
    "    '\\bfT': '\\mathbf{T}'\n",
    "    '\\bfU': '\\mathbf{U}'\n",
    "    '\\bfV': '\\mathbf{V}'\n",
    "    '\\bfW': '\\mathbf{W}'\n",
    "    '\\bfX': '\\mathbf{X}'\n",
    "    '\\bfY': '\\mathbf{Y}'\n",
    "    '\\bfZ': '\\mathbf{Z}'\n",
    "    '\\bfGamma': '\\boldsymbol{\\Gamma}'\n",
    "    '\\bfDelta': '\\boldsymbol{\\Delta}'\n",
    "    '\\bfTheta': '\\boldsymbol{\\Theta}'\n",
    "    '\\bfLambda': '\\boldsymbol{\\Lambda}'\n",
    "    '\\bfPi': '\\boldsymbol{\\Pi}'\n",
    "    '\\bfSigma': '\\boldsymbol{\\Sigma}'\n",
    "    '\\bfUpsilon': '\\boldsymbol{\\Upsilon}'\n",
    "    '\\bfPhi': '\\boldsymbol{\\Phi}'\n",
    "    '\\bfPsi': '\\boldsymbol{\\Psi}'\n",
    "    '\\bfOmega': '\\boldsymbol{\\Omega}'\n",
    "    '\\bbA': '\\mathbb{A}'\n",
    "    '\\bbB': '\\mathbb{B}'\n",
    "    '\\bbC': '\\mathbb{C}'\n",
    "    '\\bbD': '\\mathbb{D}'\n",
    "    '\\bbE': '\\mathbb{E}'\n",
    "    '\\bbF': '\\mathbb{F}'\n",
    "    '\\bbG': '\\mathbb{G}'\n",
    "    '\\bbH': '\\mathbb{H}'\n",
    "    '\\bbI': '\\mathbb{I}'\n",
    "    '\\bbJ': '\\mathbb{J}'\n",
    "    '\\bbK': '\\mathbb{K}'\n",
    "    '\\bbL': '\\mathbb{L}'\n",
    "    '\\bbM': '\\mathbb{M}'\n",
    "    '\\bbN': '\\mathbb{N}'\n",
    "    '\\bbO': '\\mathbb{O}'\n",
    "    '\\bbP': '\\mathbb{P}'\n",
    "    '\\bbQ': '\\mathbb{Q}'\n",
    "    '\\bbR': '\\mathbb{R}'\n",
    "    '\\bbS': '\\mathbb{S}'\n",
    "    '\\bbT': '\\mathbb{T}'\n",
    "    '\\bbU': '\\mathbb{U}'\n",
    "    '\\bbV': '\\mathbb{V}'\n",
    "    '\\bbW': '\\mathbb{W}'\n",
    "    '\\bbX': '\\mathbb{X}'\n",
    "    '\\bbY': '\\mathbb{Y}'\n",
    "    '\\bbZ': '\\mathbb{Z}'\n",
    "    '\\p'  : '\\partial'\n",
    "    '\\bfzero': '\\mathbb{0}'\n",
    "---"
   ]
  },
  {
   "cell_type": "code",
   "execution_count": null,
   "id": "62bf717d-db82-4917-8033-12003202fe7a",
   "metadata": {
    "editable": false
   },
   "outputs": [],
   "source": [
    "# Initialize Otter\n",
    "import otter\n",
    "grader = otter.Notebook(\"02-PlaneFitProblem.ipynb\")"
   ]
  },
  {
   "cell_type": "markdown",
   "id": "249c9b25",
   "metadata": {
    "deletable": false,
    "editable": false
   },
   "source": [
    "<!-- BEGIN QUESTION -->\n",
    "\n",
    "# Homework (PlaneFit): Problem 1\n",
    "(10 marks)\n",
    "\n",
    "Find the minimum of the following function\n",
    "$$f(\\bfx) = \\bfx^\\top A^\\top A \\bfx + 2 \\bfb^\\top \\bfx + c$$"
   ]
  },
  {
   "cell_type": "markdown",
   "id": "2d04c7a0",
   "metadata": {
    "tags": [
     "otter_answer_cell"
    ]
   },
   "source": [
    "_Type your answer here, replacing this text._"
   ]
  },
  {
   "cell_type": "markdown",
   "id": "3bbe2b3e-8642-41cf-89ed-18b0bf25530e",
   "metadata": {
    "deletable": false,
    "editable": false
   },
   "source": [
    "<!-- END QUESTION -->\n",
    "\n",
    "<!-- BEGIN QUESTION -->\n",
    "\n",
    "## Homework (Plane fit): Problem 2\n",
    "(10 marks)\n",
    "\n",
    "Find the minimum of the following function (assume $\\Sigma_1 \\in \\bbR^{n \\times n}$ and $\\Sigma_2 \\in \\bbR^{n \\times n}$ to be symmetric and positive semi-definite matrices).\n",
    "\n",
    "$$f(\\bfx) = (\\bfx - \\bfmu_1)^\\top \\Sigma_1 (\\bfx - \\bfmu_1)\n",
    "+ (\\bfx - \\bfmu_2)^\\top \\Sigma_2 (\\bfx - \\bfmu_2) $$\n",
    "\n",
    "Assume $\\bfx \\in \\bbR^n$, $\\bfmu_1 \\in \\bbR^n$ and $\\bfmu_2 \\in \\bbR^n$.\n",
    "\n",
    "$\\Sigma$ is not the summation symbol here, it is just another matrix. "
   ]
  },
  {
   "cell_type": "markdown",
   "id": "fa6bf05f",
   "metadata": {
    "tags": [
     "otter_answer_cell"
    ]
   },
   "source": [
    "_Type your answer here, replacing this text._"
   ]
  },
  {
   "cell_type": "markdown",
   "id": "c0dfabd5-3b5c-44e6-820d-2682f77dbaef",
   "metadata": {
    "deletable": false,
    "editable": false
   },
   "source": [
    "<!-- END QUESTION -->\n",
    "\n",
    "## Homework (Plane fit): Problem 3\n",
    "(30 marks)\n",
    "\n",
    "Least square fit in 2D fits a line to a given set of 2D points. This homework asks you to repeat the minimization procedure to find a plane that fits a 2D points. Below you are provided with helper code to load a point cloud, and visualize the points and the plane. Your task is to find the equation of plane that fits the point cloud. \n",
    "\n",
    "1. Show the math and derivation for your code\n",
    "2. Implement the code in python and numpy to find the coefficients of the equation of plane and write your answer in the space provided below. Submit this ipynb file to brightspace. (30 marks)"
   ]
  },
  {
   "cell_type": "code",
   "execution_count": null,
   "id": "07ff24c1-9fbb-44ff-b3a8-f4db959961a2",
   "metadata": {
    "deletable": false,
    "editable": false
   },
   "outputs": [],
   "source": [
    "%pip install plotly requests\n",
    "def wget(url, filename):\n",
    "    \"\"\"\n",
    "    Download files using requests package\n",
    "    \"\"\"\n",
    "    import requests\n",
    "    r = requests.get(url)\n",
    "    with open(filename, 'wb') as fd:\n",
    "        for chunk in r.iter_content():\n",
    "            fd.write(chunk)\n",
    "wget('https://github.com/wecacuee/ECE490-S24-Neural-Networks/raw/master/notebooks/02-linear-models/table_top.npy',\n",
    "     'table_top.npy')"
   ]
  },
  {
   "cell_type": "code",
   "execution_count": null,
   "id": "93d1c907-2613-4257-8893-e372925a093a",
   "metadata": {
    "deletable": false,
    "editable": false
   },
   "outputs": [],
   "source": [
    "import plotly.graph_objects as go\n",
    "from plotly.subplots import make_subplots\n",
    "\n",
    "def points_on_plane(abc):\n",
    "    a, b, c = abc\n",
    "    x = np.linspace(-1, 1, 100, dtype=np.float32)\n",
    "    y = np.linspace(0, 1, 100, dtype=np.float32)\n",
    "\n",
    "    x, y = np.meshgrid(x, y)\n",
    "    z = a*x + b*y + c\n",
    "    return x, y, z\n",
    "\n",
    "def visualize_plane(pts, abc, fig=None):\n",
    "    _fig = fig\n",
    "    fig = make_subplots() if fig is None else fig\n",
    "    x, y, z = points_on_plane(abc)\n",
    "    plt_surface = go.Surface(x=x, y=y, z=z)\n",
    "    \n",
    "    fig.add_trace(plt_surface)\n",
    "    visualize_points(pts, fig=fig)\n",
    "    if _fig is None:\n",
    "        fig.show()\n",
    "\n",
    "def visualize_points(pts, fig=None):\n",
    "    _fig = fig\n",
    "    fig = make_subplots() if fig is None else fig\n",
    "    scatter_trace = go.Scatter3d(x=pts[:, 0], y=pts[:, 1], z=pts[:, 2], mode='markers', marker=dict(size=1))\n",
    "    fig.add_trace(scatter_trace)\n",
    "    if _fig is None:  \n",
    "      fig.show()"
   ]
  },
  {
   "cell_type": "code",
   "execution_count": null,
   "id": "c665cb9f-cfe5-4388-a056-c4aae3854914",
   "metadata": {
    "deletable": false,
    "editable": false
   },
   "outputs": [],
   "source": [
    "import numpy as np\n",
    "pts = np.load('table_top.npy').astype('float32') # Nx3\n",
    "visualize_points(pts)\n",
    "pts.min(axis=0), pts.max(axis=0)"
   ]
  },
  {
   "cell_type": "code",
   "execution_count": null,
   "id": "e9071672-95a1-4a7e-be24-67e5f96ef78f",
   "metadata": {
    "nbgrader": {
     "grade": false,
     "grade_id": "cell-bb7ef5a91325977a",
     "locked": false,
     "schema_version": 3,
     "solution": true,
     "task": false
    },
    "tags": [
     "otter_answer_cell"
    ]
   },
   "outputs": [],
   "source": [
    "def plane_fit(pts):\n",
    "    ...\n",
    "    return abc"
   ]
  },
  {
   "cell_type": "code",
   "execution_count": null,
   "id": "b1193e60-5c78-4068-8fe2-04c14d5c9a7c",
   "metadata": {
    "tags": [
     "otter_answer_cell"
    ]
   },
   "outputs": [],
   "source": [
    "# Find abc such that z = a x + b y + c\n",
    "abc = plane_fit(pts)\n",
    "visualize_plane(pts, abc)\n",
    "def test_plane_fit(plan_fit, env):\n",
    "    pts = env['pts']\n",
    "    abc = plane_fit(pts)\n",
    "    assert np.abs(pts[:,2] - np.hstack((pts[:, :2], np.ones((pts.shape[0],1)))) @ abc).mean() < 0.4\n",
    "test_plane_fit(plane_fit, env=globals())"
   ]
  },
  {
   "cell_type": "code",
   "execution_count": null,
   "id": "092b74f2",
   "metadata": {
    "deletable": false,
    "editable": false
   },
   "outputs": [],
   "source": [
    "grader.check(\"q8\")"
   ]
  },
  {
   "cell_type": "markdown",
   "id": "5ea5cd66",
   "metadata": {
    "deletable": false,
    "editable": false
   },
   "source": [
    "## Submission\n",
    "\n",
    "Make sure you have run all cells in your notebook in order before running the cell below, so that all images/graphs appear in the output. The cell below will generate a zip file for you to submit. **Please save before exporting!**"
   ]
  },
  {
   "cell_type": "code",
   "execution_count": null,
   "id": "78635c14",
   "metadata": {
    "deletable": false,
    "editable": false
   },
   "outputs": [],
   "source": [
    "# Save your notebook first, then run this cell to export your submission.\n",
    "grader.export(pdf=False, run_tests=True)"
   ]
  },
  {
   "cell_type": "markdown",
   "id": "27f9ae97",
   "metadata": {},
   "source": [
    " "
   ]
  }
 ],
 "metadata": {
  "kernelspec": {
   "display_name": "Python 3 (ipykernel)",
   "language": "python",
   "name": "python3"
  },
  "language_info": {
   "codemirror_mode": {
    "name": "ipython",
    "version": 3
   },
   "file_extension": ".py",
   "mimetype": "text/x-python",
   "name": "python",
   "nbconvert_exporter": "python",
   "pygments_lexer": "ipython3",
   "version": "3.10.12"
  },
  "otter": {
   "OK_FORMAT": true,
   "tests": {
    "q8": {
     "name": "q8",
     "points": 30,
     "suites": [
      {
       "cases": [
        {
         "code": ">>> abc = plane_fit(pts)\n>>> visualize_plane(pts, abc)\n",
         "hidden": false,
         "locked": false
        },
        {
         "code": ">>> def test_plane_fit(plan_fit, env):\n...     pts = env['pts']\n...     abc = plane_fit(pts)\n...     assert np.abs(pts[:, 2] - np.hstack((pts[:, :2], np.ones((pts.shape[0], 1)))) @ abc).mean() < 0.4\n>>> test_plane_fit(plane_fit, env=globals())\n",
         "hidden": false,
         "locked": false
        }
       ],
       "scored": true,
       "setup": "",
       "teardown": "",
       "type": "doctest"
      }
     ]
    }
   }
  }
 },
 "nbformat": 4,
 "nbformat_minor": 5
}
